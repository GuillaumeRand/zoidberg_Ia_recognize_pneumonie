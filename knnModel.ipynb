{
  "cells": [
    {
      "cell_type": "markdown",
      "metadata": {
        "id": "hzlQK-bZCLLJ"
      },
      "source": [
        "Import dependencies"
      ]
    },
    {
      "cell_type": "code",
      "execution_count": 98,
      "metadata": {
        "id": "I3ap6EV6CFa9"
      },
      "outputs": [],
      "source": [
        "import numpy as np\n",
        "import matplotlib.pyplot as plt\n",
        "import cv2\n",
        "import os\n",
        "import time\n",
        "from sklearn.metrics import classification_report\n",
        "from sklearn.neighbors import KNeighborsClassifier\n",
        "from sklearn import metrics\n",
        "from sklearn.metrics import confusion_matrix\n",
        "from sklearn.model_selection import train_test_split\n",
        "from sklearn.preprocessing import StandardScaler\n",
        "import itertools\n",
        "%matplotlib inline"
      ]
    },
    {
      "cell_type": "markdown",
      "metadata": {},
      "source": [
        "Const"
      ]
    },
    {
      "cell_type": "code",
      "execution_count": 99,
      "metadata": {},
      "outputs": [],
      "source": [
        "train_path = r'chest_Xray/train'\n",
        "test_path = r'chest_Xray/test'\n",
        "val_path = r'chest_Xray/val'\n",
        "\n",
        "labels = ['NORMAL', 'PNEUMONIA']\n",
        "\n",
        "IMG_SIZE=200\n",
        "\n",
        "scale = 0.7\n",
        "\n",
        "# try K=1 through K=15 and record testing accuracy\n",
        "k_range = range(1, 16)\n",
        "# Take time for timer\n",
        "time1 = time.time()"
      ]
    },
    {
      "cell_type": "markdown",
      "metadata": {},
      "source": [
        "Import images into array function"
      ]
    },
    {
      "cell_type": "code",
      "execution_count": 100,
      "metadata": {},
      "outputs": [],
      "source": [
        "def get_training_data(data_dir, size):\n",
        "    data = list()\n",
        "    for label in labels: \n",
        "        path = os.path.join(data_dir, label)\n",
        "        class_num = labels.index(label)\n",
        "        for image in os.listdir(path):\n",
        "            if(image!=\".DS_Store\"):\n",
        "                try:\n",
        "                    image_arr = cv2.imread(os.path.join(path, image), cv2.IMREAD_GRAYSCALE)\n",
        "                    resized_arr = cv2.resize(image_arr, (size, size)) \n",
        "                    data.append([resized_arr, class_num])\n",
        "                except Exception as e:\n",
        "                    print(e)\n",
        "    return np.array(data, dtype=\"object\")"
      ]
    },
    {
      "cell_type": "code",
      "execution_count": 101,
      "metadata": {},
      "outputs": [],
      "source": [
        "test = get_training_data(test_path, IMG_SIZE)\n",
        "train = get_training_data(train_path, IMG_SIZE)\n",
        "val = get_training_data(val_path, IMG_SIZE)"
      ]
    },
    {
      "cell_type": "markdown",
      "metadata": {},
      "source": [
        "Balence datasets"
      ]
    },
    {
      "cell_type": "code",
      "execution_count": 102,
      "metadata": {},
      "outputs": [],
      "source": [
        "def mix_datasets(array):\n",
        "    # Pneumonie\n",
        "    arr_1 = array[np.where(array[:,1] == 1)]\n",
        "    # Normal\n",
        "    arr_0 = array[np.where(array[:,1] == 0)]\n",
        "    l_arr_1 = len(arr_1)\n",
        "    l_arr_0 = len(arr_0)\n",
        "    diff = 0\n",
        "\n",
        "    if l_arr_0 > l_arr_1:\n",
        "        diff = l_arr_0 - l_arr_1\n",
        "        arr_0.resize((l_arr_0 - diff, arr_0.shape[1]))\n",
        "        array = np.concatenate((l_arr_0, arr_1))\n",
        "    else:\n",
        "        diff = l_arr_1 - l_arr_0\n",
        "        arr_1.resize((l_arr_1 - diff, arr_1.shape[1]))\n",
        "        array = np.concatenate((arr_0, arr_1))\n",
        "    return array\n"
      ]
    },
    {
      "cell_type": "markdown",
      "metadata": {},
      "source": [
        "Scaling datsets"
      ]
    },
    {
      "cell_type": "code",
      "execution_count": 103,
      "metadata": {},
      "outputs": [],
      "source": [
        "# # train_scaled = train\n",
        "# test_scaled = test\n",
        "# train_scaled = train[np.random.randint(train.shape[0], size=int(len(train)*scale)), :]\n",
        "# # test_scaled = test[np.random.randint(test.shape[0], size=int(len(test)*scale)), :]"
      ]
    },
    {
      "cell_type": "markdown",
      "metadata": {},
      "source": [
        "Preparing the data"
      ]
    },
    {
      "cell_type": "code",
      "execution_count": 104,
      "metadata": {},
      "outputs": [],
      "source": [
        "def prepare_dataset(dataset):\n",
        "    X_ = list() \n",
        "    y_ = list()\n",
        "    for features, label in dataset:\n",
        "        X_.append(features)\n",
        "        y_.append(label)\n",
        "    X_ = np.array(X_)\n",
        "    X_ = X_.reshape(-1, IMG_SIZE * IMG_SIZE)\n",
        "    y_ = np.array(y_)\n",
        "    return X_, y_ "
      ]
    },
    {
      "cell_type": "code",
      "execution_count": 105,
      "metadata": {},
      "outputs": [],
      "source": [
        "x_train, label_train = prepare_dataset(mix_datasets(train))\n",
        "x_test, label_test = prepare_dataset(mix_datasets(test))\n",
        "x_val, label_val = prepare_dataset(mix_datasets(val))"
      ]
    },
    {
      "cell_type": "markdown",
      "metadata": {},
      "source": [
        "Train test split"
      ]
    },
    {
      "cell_type": "code",
      "execution_count": 106,
      "metadata": {},
      "outputs": [],
      "source": [
        "# Append train + test data in order to scale our datasets\n",
        "X = np.concatenate((x_train, x_test))\n",
        "X = np.concatenate((X, x_val))\n",
        "Y = np.concatenate((label_train, label_test))\n",
        "Y = np.concatenate((Y, label_val))"
      ]
    },
    {
      "cell_type": "code",
      "execution_count": 107,
      "metadata": {},
      "outputs": [],
      "source": [
        "# test_size: what proportion of original data is used for test set\n",
        "x_train, x_test, label_train, label_test = train_test_split( X, Y, test_size=0.30)"
      ]
    },
    {
      "cell_type": "markdown",
      "metadata": {},
      "source": [
        "Transform / Normalize data"
      ]
    },
    {
      "cell_type": "code",
      "execution_count": 108,
      "metadata": {},
      "outputs": [],
      "source": [
        "scaler = StandardScaler()\n",
        "# Fit on training set only.\n",
        "scaler.fit(x_train)\n",
        "# Apply transform to both the training set and the test set.\n",
        "x_train = scaler.transform(x_train)\n",
        "x_test = scaler.transform(x_test)"
      ]
    },
    {
      "cell_type": "markdown",
      "metadata": {},
      "source": [
        "Find Best numbers of neighbors"
      ]
    },
    {
      "cell_type": "code",
      "execution_count": 109,
      "metadata": {},
      "outputs": [
        {
          "data": {
            "text/plain": [
              "Text(0, 0.5, 'Testing Accuracy')"
            ]
          },
          "execution_count": 109,
          "metadata": {},
          "output_type": "execute_result"
        },
        {
          "data": {
            "image/png": "[encoded data removed]",
            "text/plain": [
              "<Figure size 432x288 with 1 Axes>"
            ]
          },
          "metadata": {
            "needs_background": "light"
          },
          "output_type": "display_data"
        }
      ],
      "source": [
        "scores = []\n",
        "# We use a loop through the range 1 to 26\n",
        "# We append the scores in the dictionary\n",
        "for k in k_range:\n",
        "    knn = KNeighborsClassifier(n_neighbors=k)\n",
        "    knn.fit(x_train, label_train)\n",
        "    y_pred = knn.predict(x_test)\n",
        "    scores.append(metrics.accuracy_score(label_test, y_pred))\n",
        "max = np.amax(scores) \n",
        "itemindex = np.where(scores==max)\n",
        "neighbors_max = itemindex[0]+1\n",
        "\n",
        "# plot the relationship between K and testing accuracy\n",
        "# plt.plot(x_axis, y_axis)\n",
        "plt.plot(k_range, scores)\n",
        "plt.xlabel('Value of K for KNN')\n",
        "plt.ylabel('Testing Accuracy')"
      ]
    },
    {
      "cell_type": "markdown",
      "metadata": {},
      "source": [
        "### Final model\n",
        "train"
      ]
    },
    {
      "cell_type": "code",
      "execution_count": 110,
      "metadata": {},
      "outputs": [
        {
          "name": "stdout",
          "output_type": "stream",
          "text": [
            "1.5707315444946288 min\n"
          ]
        }
      ],
      "source": [
        "KNN = KNeighborsClassifier(int(neighbors_max[0]))\n",
        "KNN.fit(x_train, label_train)\n",
        "\n",
        "# Print duration time\n",
        "duration_time = time.time() - time1\n",
        "if duration_time < 60 :  \n",
        "    print(\"{} s\".format(duration_time)) \n",
        "else : \n",
        "    print(\"{} min\".format(duration_time/60))"
      ]
    },
    {
      "cell_type": "markdown",
      "metadata": {},
      "source": [
        "#### Predict"
      ]
    },
    {
      "cell_type": "code",
      "execution_count": 111,
      "metadata": {},
      "outputs": [
        {
          "name": "stdout",
          "output_type": "stream",
          "text": [
            "0.9168421052631579\n",
            "              precision    recall  f1-score   support\n",
            "\n",
            "      NORMAL       0.89      0.95      0.92       451\n",
            "   PNEUMONIA       0.95      0.89      0.92       499\n",
            "\n",
            "    accuracy                           0.92       950\n",
            "   macro avg       0.92      0.92      0.92       950\n",
            "weighted avg       0.92      0.92      0.92       950\n",
            "\n"
          ]
        }
      ],
      "source": [
        "pred = KNN.predict(x_test)\n",
        "# predicted_classes = np.argmax(pred, axis=0)\n",
        "print(metrics.accuracy_score(pred, label_test))\n",
        "report = classification_report(pred, label_test, target_names=labels)\n",
        "print(report)   "
      ]
    },
    {
      "cell_type": "markdown",
      "metadata": {},
      "source": [
        "Confusion matrix"
      ]
    },
    {
      "cell_type": "code",
      "execution_count": 112,
      "metadata": {},
      "outputs": [],
      "source": [
        "def plot_confusion_matrix(cm, classes,\n",
        "                        normalize=False,\n",
        "                        title='Confusion matrix',\n",
        "                        cmap=plt.cm.Blues):\n",
        "    \"\"\"\n",
        "    This function prints and plots the confusion matrix.\n",
        "    Normalization can be applied by setting `normalize=True`.\n",
        "    \"\"\"\n",
        "    plt.imshow(cm, interpolation='nearest', cmap=cmap)\n",
        "    plt.title(title)\n",
        "    plt.colorbar()\n",
        "    tick_marks = np.arange(len(classes))\n",
        "    plt.xticks(tick_marks, classes, rotation=45)\n",
        "    plt.yticks(tick_marks, classes)\n",
        "\n",
        "    if normalize:\n",
        "        cm = cm.astype('float') / cm.sum(axis=1)[:, np.newaxis]\n",
        "        print(\"Normalized confusion matrix\")\n",
        "    else:\n",
        "        print('Confusion matrix, without normalization')\n",
        "\n",
        "    print(cm)\n",
        "\n",
        "    thresh = cm.max() / 2.\n",
        "    for i, j in itertools.product(range(cm.shape[0]), range(cm.shape[1])):\n",
        "        plt.text(j, i, cm[i, j],\n",
        "            horizontalalignment=\"center\",\n",
        "            color=\"white\" if cm[i, j] > thresh else \"black\")\n",
        "\n",
        "    plt.tight_layout()\n",
        "    plt.ylabel('True label')\n",
        "    plt.xlabel('Predicted label')"
      ]
    },
    {
      "cell_type": "markdown",
      "metadata": {},
      "source": [
        "#### Matrix confusion"
      ]
    },
    {
      "cell_type": "code",
      "execution_count": 113,
      "metadata": {},
      "outputs": [
        {
          "name": "stdout",
          "output_type": "stream",
          "text": [
            "Confusion matrix, without normalization\n",
            "[[427  55]\n",
            " [ 24 444]]\n"
          ]
        },
        {
          "data": {
            "image/png": "[encoded data removed]",
            "text/plain": [
              "<Figure size 432x288 with 2 Axes>"
            ]
          },
          "metadata": {
            "needs_background": "light"
          },
          "output_type": "display_data"
        }
      ],
      "source": [
        "cm = confusion_matrix(y_true=label_test, y_pred=pred)\n",
        "plot_confusion_matrix(cm=cm, classes=labels, title='Confusion Matrix')"
      ]
    },
    {
      "cell_type": "code",
      "execution_count": 114,
      "metadata": {},
      "outputs": [
        {
          "name": "stdout",
          "output_type": "stream",
          "text": [
            "Test accuracy : 0.9168\n"
          ]
        }
      ],
      "source": [
        "score = KNN.score(x_test, label_test)\n",
        "\n",
        "print(f'Test accuracy : {score:4.4f}')"
      ]
    },
    {
      "cell_type": "markdown",
      "metadata": {},
      "source": [
        "Duration time without PCA"
      ]
    },
    {
      "cell_type": "code",
      "execution_count": 115,
      "metadata": {},
      "outputs": [
        {
          "name": "stdout",
          "output_type": "stream",
          "text": [
            "0:01:39.658456\n"
          ]
        }
      ],
      "source": [
        "import datetime\n",
        "duration_time = time.time() - time1\n",
        "print(datetime.timedelta(seconds=duration_time))"
      ]
    }
  ],
  "metadata": {
    "colab": {
      "name": "Untitled",
      "provenance": []
    },
    "kernelspec": {
      "display_name": "Python 3",
      "name": "python3"
    },
    "language_info": {
      "codemirror_mode": {
        "name": "ipython",
        "version": 3
      },
      "file_extension": ".py",
      "mimetype": "text/x-python",
      "name": "python",
      "nbconvert_exporter": "python",
      "pygments_lexer": "ipython3",
      "version": "3.7.8rc1"
    }
  },
  "nbformat": 4,
  "nbformat_minor": 0
}
