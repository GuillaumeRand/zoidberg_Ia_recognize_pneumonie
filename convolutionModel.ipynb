{
  "cells": [
    {
      "cell_type": "markdown",
      "metadata": {
        "id": "hzlQK-bZCLLJ"
      },
      "source": [
        "Import dependencies"
      ]
    },
    {
      "cell_type": "code",
      "execution_count": 1,
      "metadata": {
        "id": "I3ap6EV6CFa9"
      },
      "outputs": [],
      "source": [
        "%matplotlib inline\n",
        "import matplotlib.pyplot as plt\n",
        "import numpy as np\n",
        "import tensorflow as tf\n",
        "import cv2\n",
        "import os\n",
        "import time\n",
        "from sklearn.metrics import classification_report\n",
        "from sklearn.model_selection import train_test_split\n",
        "from sklearn.metrics import confusion_matrix\n",
        "import itertools\n",
        "from tensorflow.keras import layers, models"
      ]
    },
    {
      "cell_type": "markdown",
      "metadata": {},
      "source": [
        "Const"
      ]
    },
    {
      "cell_type": "code",
      "execution_count": 2,
      "metadata": {},
      "outputs": [],
      "source": [
        "train_path = r'chest_Xray\\train'\n",
        "test_path = r'chest_Xray\\test'\n",
        "val_path = r'chest_Xray/val'\n",
        "\n",
        "labels = ['NORMAL', 'PNEUMONIA']\n",
        "\n",
        "IMG_SIZE=200\n",
        "\n",
        "scale = 1"
      ]
    },
    {
      "cell_type": "markdown",
      "metadata": {},
      "source": [
        "Import images into array function"
      ]
    },
    {
      "cell_type": "code",
      "execution_count": 3,
      "metadata": {},
      "outputs": [],
      "source": [
        "def get_training_data(data_dir, size):\n",
        "    data = list()\n",
        "    for label in labels: \n",
        "        path = os.path.join(data_dir, label)\n",
        "        class_num = labels.index(label)\n",
        "        for image in os.listdir(path):\n",
        "            if(image!=\".DS_Store\"):\n",
        "                try:\n",
        "                    image_arr = cv2.imread(os.path.join(path, image), cv2.IMREAD_GRAYSCALE)\n",
        "                    resized_arr = cv2.resize(image_arr, (size, size)) \n",
        "                    data.append([resized_arr, class_num])\n",
        "                except Exception as e:\n",
        "                    print(e)\n",
        "    return np.array(data, dtype=\"object\")"
      ]
    },
    {
      "cell_type": "code",
      "execution_count": 4,
      "metadata": {},
      "outputs": [],
      "source": [
        "# x_train, label_train = create_dataset(train_path, IMG_SIZE)\n",
        "# x_test, label_test = create_dataset(test_path, IMG_SIZE)"
      ]
    },
    {
      "cell_type": "code",
      "execution_count": 5,
      "metadata": {},
      "outputs": [],
      "source": [
        "test = get_training_data(test_path, IMG_SIZE)\n",
        "train = get_training_data(train_path, IMG_SIZE)\n",
        "val = get_training_data(val_path, IMG_SIZE)"
      ]
    },
    {
      "cell_type": "markdown",
      "metadata": {},
      "source": [
        "Balence datasets"
      ]
    },
    {
      "cell_type": "code",
      "execution_count": 6,
      "metadata": {},
      "outputs": [],
      "source": [
        "def mix_datasets(array):\n",
        "    # Pneumonie\n",
        "    arr_1 = array[np.where(array[:,1] == 1)]\n",
        "    # Normal\n",
        "    arr_0 = array[np.where(array[:,1] == 0)]\n",
        "    l_arr_1 = len(arr_1)\n",
        "    l_arr_0 = len(arr_0)\n",
        "    diff = 0\n",
        "\n",
        "    if l_arr_0 > l_arr_1:\n",
        "        diff = l_arr_0 - l_arr_1\n",
        "        arr_0.resize((l_arr_0 - diff, arr_0.shape[1]))\n",
        "        array = np.concatenate((l_arr_0, arr_1))\n",
        "    else:\n",
        "        diff = l_arr_1 - l_arr_0\n",
        "        arr_1.resize((l_arr_1 - diff, arr_1.shape[1]))\n",
        "        array = np.concatenate((arr_0, arr_1))\n",
        "    return array"
      ]
    },
    {
      "cell_type": "markdown",
      "metadata": {},
      "source": [
        "Scaling datsets"
      ]
    },
    {
      "cell_type": "code",
      "execution_count": 7,
      "metadata": {},
      "outputs": [],
      "source": [
        "# train_scaled = train\n",
        "# test_scaled = test\n",
        "train_scaled = train[np.random.randint(train.shape[0], size=int(len(train)*scale)), :]\n",
        "test_scaled = test[np.random.randint(test.shape[0], size=int(len(test)*scale)), :]"
      ]
    },
    {
      "cell_type": "markdown",
      "metadata": {},
      "source": [
        "Preparing the data"
      ]
    },
    {
      "cell_type": "code",
      "execution_count": 8,
      "metadata": {},
      "outputs": [],
      "source": [
        "def prepare_dataset(dataset):\n",
        "    X_ = list()\n",
        "    y_ = list()\n",
        "    for features, label in dataset:\n",
        "        X_.append(features)\n",
        "        y_.append(label)\n",
        "    X_ = np.array(X_)\n",
        "    X_ = X_.reshape(-1, IMG_SIZE, IMG_SIZE, 1)\n",
        "    y_ = np.array(y_)\n",
        "    return X_, y_ "
      ]
    },
    {
      "cell_type": "code",
      "execution_count": 9,
      "metadata": {},
      "outputs": [],
      "source": [
        "x_train, label_train = prepare_dataset(mix_datasets(train))\n",
        "x_test, label_test = prepare_dataset(mix_datasets(test))\n",
        "x_val, label_val = prepare_dataset(mix_datasets(val))"
      ]
    },
    {
      "cell_type": "code",
      "execution_count": 10,
      "metadata": {},
      "outputs": [],
      "source": [
        "# Append train + test + val data in order to scale our datasets\n",
        "X = np.concatenate((x_train, x_test))\n",
        "X = np.concatenate((X, x_val))\n",
        "Y = np.concatenate((label_train, label_test))\n",
        "Y = np.concatenate((Y, label_val))"
      ]
    },
    {
      "cell_type": "code",
      "execution_count": 11,
      "metadata": {},
      "outputs": [],
      "source": [
        "# Hold-Out cross validation\n",
        "# test_size: what proportion of original data is used for test set \n",
        "x_train, x_test, label_train, label_test = train_test_split( X, Y, test_size=0.30)"
      ]
    },
    {
      "cell_type": "markdown",
      "metadata": {},
      "source": [
        "Normalize data"
      ]
    },
    {
      "cell_type": "code",
      "execution_count": 12,
      "metadata": {},
      "outputs": [],
      "source": [
        "xmax = np.array(x_train).max()\n",
        "x_train = x_train / xmax\n",
        "xmax = np.array(x_test).max()\n",
        "x_test  = x_test  / xmax"
      ]
    },
    {
      "cell_type": "markdown",
      "metadata": {},
      "source": [
        "Create model"
      ]
    },
    {
      "cell_type": "code",
      "execution_count": 13,
      "metadata": {},
      "outputs": [],
      "source": [
        "model = models.Sequential()\n",
        "model.add(layers.Conv2D(32, (3, 3), activation='relu', input_shape=(IMG_SIZE, IMG_SIZE, 1)))\n",
        "model.add(layers.MaxPooling2D((2, 2)))\n",
        "# model.add(layers.Dropout(0.2))\n",
        "\n",
        "model.add(layers.Conv2D(64, (3, 3), activation='relu'))\n",
        "model.add(layers.MaxPooling2D((2, 2)))\n",
        "# model.add(layers.Dropout(0.2))\n",
        "\n",
        "model.add(layers.Conv2D(64, (3, 3), activation='relu'))\n",
        "model.add(layers.MaxPooling2D((2, 2)))\n",
        "# model.add(layers.Dropout(0.2))\n",
        "\n",
        "model.add(layers.Conv2D(128, (3, 3), activation='relu'))\n",
        "model.add(layers.MaxPooling2D((2, 2)))\n",
        "\n",
        "model.add(layers.Flatten())\n",
        "model.add(layers.Dense(120))\n",
        "# model.add(layers.Dropout(0.4))\n",
        "model.add(layers.Dense(2, activation='softmax'))\n"
      ]
    },
    {
      "cell_type": "markdown",
      "metadata": {},
      "source": [
        "Init training's Callback"
      ]
    },
    {
      "cell_type": "code",
      "execution_count": 14,
      "metadata": {},
      "outputs": [],
      "source": [
        "def callbacks():\n",
        "    callbacks = [\n",
        "            tf.keras.callbacks.ModelCheckpoint(\n",
        "                filepath='lstmchar256256128test.h5',\n",
        "                monitor='loss',\n",
        "                save_best_only=True\n",
        "            ),\n",
        "            tf.keras.callbacks.EarlyStopping(\n",
        "                monitor='loss',\n",
        "                min_delta=0,\n",
        "                patience=4,\n",
        "                mode='auto',\n",
        "                baseline=None,\n",
        "            )\n",
        "        ]\n",
        "    return callbacks"
      ]
    },
    {
      "cell_type": "code",
      "execution_count": 15,
      "metadata": {},
      "outputs": [
        {
          "name": "stdout",
          "output_type": "stream",
          "text": [
            "Model: \"sequential\"\n",
            "_________________________________________________________________\n",
            " Layer (type)                Output Shape              Param #   \n",
            "=================================================================\n",
            " conv2d (Conv2D)             (None, 198, 198, 32)      320       \n",
            "                                                                 \n",
            " max_pooling2d (MaxPooling2D  (None, 99, 99, 32)       0         \n",
            " )                                                               \n",
            "                                                                 \n",
            " conv2d_1 (Conv2D)           (None, 97, 97, 64)        18496     \n",
            "                                                                 \n",
            " max_pooling2d_1 (MaxPooling  (None, 48, 48, 64)       0         \n",
            " 2D)                                                             \n",
            "                                                                 \n",
            " conv2d_2 (Conv2D)           (None, 46, 46, 64)        36928     \n",
            "                                                                 \n",
            " max_pooling2d_2 (MaxPooling  (None, 23, 23, 64)       0         \n",
            " 2D)                                                             \n",
            "                                                                 \n",
            " conv2d_3 (Conv2D)           (None, 21, 21, 128)       73856     \n",
            "                                                                 \n",
            " max_pooling2d_3 (MaxPooling  (None, 10, 10, 128)      0         \n",
            " 2D)                                                             \n",
            "                                                                 \n",
            " flatten (Flatten)           (None, 12800)             0         \n",
            "                                                                 \n",
            " dense (Dense)               (None, 120)               1536120   \n",
            "                                                                 \n",
            " dense_1 (Dense)             (None, 2)                 242       \n",
            "                                                                 \n",
            "=================================================================\n",
            "Total params: 1,665,962\n",
            "Trainable params: 1,665,962\n",
            "Non-trainable params: 0\n",
            "_________________________________________________________________\n"
          ]
        }
      ],
      "source": [
        "model.summary()"
      ]
    },
    {
      "cell_type": "markdown",
      "metadata": {},
      "source": [
        "Compile + train model"
      ]
    },
    {
      "cell_type": "code",
      "execution_count": 16,
      "metadata": {},
      "outputs": [],
      "source": [
        "# y_test = np.array(y_test)\n",
        "# y_train = np.array(y_train)\n",
        "y_test = np.array(label_test)\n",
        "y_train = np.array(label_train)"
      ]
    },
    {
      "cell_type": "code",
      "execution_count": 17,
      "metadata": {},
      "outputs": [
        {
          "name": "stdout",
          "output_type": "stream",
          "text": [
            "Epoch 1/10\n"
          ]
        },
        {
          "name": "stderr",
          "output_type": "stream",
          "text": [
            "C:\\Users\\TBRUGE\\AppData\\Local\\Programs\\Python\\Python37\\lib\\site-packages\\tensorflow\\python\\util\\dispatch.py:1082: UserWarning: \"`sparse_categorical_crossentropy` received `from_logits=True`, but the `output` argument was produced by a sigmoid or softmax activation and thus does not represent logits. Was this intended?\"\n",
            "  return dispatch_target(*args, **kwargs)\n"
          ]
        },
        {
          "name": "stdout",
          "output_type": "stream",
          "text": [
            "70/70 [==============================] - 76s 1s/step - loss: 0.4393 - accuracy: 0.7978 - val_loss: 0.3722 - val_accuracy: 0.8811\n",
            "Epoch 2/10\n",
            "70/70 [==============================] - 74s 1s/step - loss: 0.2780 - accuracy: 0.8953 - val_loss: 0.2736 - val_accuracy: 0.8926\n",
            "Epoch 3/10\n",
            "70/70 [==============================] - 75s 1s/step - loss: 0.1830 - accuracy: 0.9382 - val_loss: 0.1865 - val_accuracy: 0.9242\n",
            "Epoch 4/10\n",
            "70/70 [==============================] - 75s 1s/step - loss: 0.1480 - accuracy: 0.9472 - val_loss: 0.1865 - val_accuracy: 0.9316\n",
            "Epoch 5/10\n",
            "70/70 [==============================] - 73s 1s/step - loss: 0.1401 - accuracy: 0.9468 - val_loss: 0.1686 - val_accuracy: 0.9411\n",
            "Epoch 6/10\n",
            "70/70 [==============================] - 82s 1s/step - loss: 0.1180 - accuracy: 0.9644 - val_loss: 0.1616 - val_accuracy: 0.9389\n",
            "Epoch 7/10\n",
            "70/70 [==============================] - 76s 1s/step - loss: 0.0955 - accuracy: 0.9653 - val_loss: 0.2261 - val_accuracy: 0.9263\n",
            "Epoch 8/10\n",
            "70/70 [==============================] - 82s 1s/step - loss: 0.0914 - accuracy: 0.9684 - val_loss: 0.1887 - val_accuracy: 0.9337\n",
            "Epoch 9/10\n",
            "70/70 [==============================] - 75s 1s/step - loss: 0.0891 - accuracy: 0.9711 - val_loss: 0.1924 - val_accuracy: 0.9389\n",
            "Epoch 10/10\n",
            "70/70 [==============================] - 79s 1s/step - loss: 0.0695 - accuracy: 0.9783 - val_loss: 0.1496 - val_accuracy: 0.9379\n",
            "12.791045022010803 min\n"
          ]
        }
      ],
      "source": [
        "model.compile(optimizer='adam',\n",
        "              loss=tf.keras.losses.SparseCategoricalCrossentropy(from_logits=True),\n",
        "              metrics=['accuracy'])\n",
        "\n",
        "time1 = time.time()\n",
        "history = model.fit(x_train, y_train, epochs=10, validation_data=(x_test, y_test), callbacks=callbacks())\n",
        "\n",
        "# Print duration time\n",
        "duration_time = time.time() - time1\n",
        "if duration_time < 60 :  \n",
        "    print(\"{} s\".format(duration_time)) \n",
        "else : \n",
        "    print(\"{} min\".format(duration_time/60))"
      ]
    },
    {
      "cell_type": "markdown",
      "metadata": {},
      "source": [
        "loss + accuracy graph"
      ]
    },
    {
      "cell_type": "code",
      "execution_count": 18,
      "metadata": {},
      "outputs": [
        {
          "data": {
            "text/plain": [
              "<matplotlib.legend.Legend at 0x229b2c1ae08>"
            ]
          },
          "execution_count": 18,
          "metadata": {},
          "output_type": "execute_result"
        },
        {
          "data": {
            "image/png": "[encoded data removed]",
            "text/plain": [
              "<Figure size 432x288 with 1 Axes>"
            ]
          },
          "metadata": {
            "needs_background": "light"
          },
          "output_type": "display_data"
        }
      ],
      "source": [
        "history_loss = history.history[\"loss\"]\n",
        "history_acc = history.history[\"accuracy\"]\n",
        "\n",
        "plt.plot(history_loss, label=\"loss\")\n",
        "plt.plot(history_acc, label=\"acc\")\n",
        "plt.title(\"Training history\")\n",
        "plt.legend()"
      ]
    },
    {
      "cell_type": "markdown",
      "metadata": {},
      "source": [
        "Prediction"
      ]
    },
    {
      "cell_type": "code",
      "execution_count": 19,
      "metadata": {},
      "outputs": [],
      "source": [
        "pred = model.predict(x_test)"
      ]
    },
    {
      "cell_type": "code",
      "execution_count": 20,
      "metadata": {},
      "outputs": [
        {
          "name": "stdout",
          "output_type": "stream",
          "text": [
            "              precision    recall  f1-score   support\n",
            "\n",
            "      NORMAL       0.92      0.95      0.93       433\n",
            "   PNEUMONIA       0.95      0.93      0.94       517\n",
            "\n",
            "    accuracy                           0.94       950\n",
            "   macro avg       0.94      0.94      0.94       950\n",
            "weighted avg       0.94      0.94      0.94       950\n",
            "\n"
          ]
        }
      ],
      "source": [
        "predicted_classes = np.argmax(pred, axis=1)\n",
        "report = classification_report(predicted_classes, y_test, target_names=labels)\n",
        "print(report)   "
      ]
    },
    {
      "cell_type": "markdown",
      "metadata": {},
      "source": [
        "Cunsion matrix"
      ]
    },
    {
      "cell_type": "code",
      "execution_count": 21,
      "metadata": {},
      "outputs": [],
      "source": [
        "def plot_confusion_matrix(cm, classes,\n",
        "                        normalize=False,\n",
        "                        title='Confusion matrix',\n",
        "                        cmap=plt.cm.Blues):\n",
        "    \"\"\"\n",
        "    This function prints and plots the confusion matrix.\n",
        "    Normalization can be applied by setting `normalize=True`.\n",
        "    \"\"\"\n",
        "    plt.imshow(cm, interpolation='nearest', cmap=cmap)\n",
        "    plt.title(title)\n",
        "    plt.colorbar()\n",
        "    tick_marks = np.arange(len(classes))\n",
        "    plt.xticks(tick_marks, classes, rotation=45)\n",
        "    plt.yticks(tick_marks, classes)\n",
        "\n",
        "    if normalize:\n",
        "        cm = cm.astype('float') / cm.sum(axis=1)[:, np.newaxis]\n",
        "        print(\"Normalized confusion matrix\")\n",
        "    else:\n",
        "        print('Confusion matrix, without normalization')\n",
        "\n",
        "    print(cm)\n",
        "\n",
        "    thresh = cm.max() / 2.\n",
        "    for i, j in itertools.product(range(cm.shape[0]), range(cm.shape[1])):\n",
        "        plt.text(j, i, cm[i, j],\n",
        "            horizontalalignment=\"center\",\n",
        "            color=\"white\" if cm[i, j] > thresh else \"black\")\n",
        "\n",
        "    plt.tight_layout()\n",
        "    plt.ylabel('True label')\n",
        "    plt.xlabel('Predicted label')"
      ]
    },
    {
      "cell_type": "code",
      "execution_count": 22,
      "metadata": {},
      "outputs": [],
      "source": [
        "cm = confusion_matrix(y_true=label_test, y_pred=predicted_classes)"
      ]
    },
    {
      "cell_type": "code",
      "execution_count": 23,
      "metadata": {},
      "outputs": [
        {
          "name": "stdout",
          "output_type": "stream",
          "text": [
            "Confusion matrix, without normalization\n",
            "[[410  36]\n",
            " [ 23 481]]\n"
          ]
        },
        {
          "data": {
            "image/png": "[encoded data removed]",
            "text/plain": [
              "<Figure size 432x288 with 2 Axes>"
            ]
          },
          "metadata": {
            "needs_background": "light"
          },
          "output_type": "display_data"
        }
      ],
      "source": [
        "plot_confusion_matrix(cm=cm, classes=labels, title='Confusion Matrix')"
      ]
    },
    {
      "cell_type": "code",
      "execution_count": 24,
      "metadata": {},
      "outputs": [
        {
          "name": "stdout",
          "output_type": "stream",
          "text": [
            "Test loss     : 0.1496\n",
            "Test accuracy : 0.9379\n"
          ]
        }
      ],
      "source": [
        "score = model.evaluate(x_test, y_test, verbose=0)\n",
        "\n",
        "print(f'Test loss     : {score[0]:4.4f}')\n",
        "print(f'Test accuracy : {score[1]:4.4f}')"
      ]
    }
  ],
  "metadata": {
    "colab": {
      "name": "Untitled",
      "provenance": []
    },
    "kernelspec": {
      "display_name": "Python 3",
      "name": "python3"
    },
    "language_info": {
      "codemirror_mode": {
        "name": "ipython",
        "version": 3
      },
      "file_extension": ".py",
      "mimetype": "text/x-python",
      "name": "python",
      "nbconvert_exporter": "python",
      "pygments_lexer": "ipython3",
      "version": "3.7.8"
    }
  },
  "nbformat": 4,
  "nbformat_minor": 0
}
